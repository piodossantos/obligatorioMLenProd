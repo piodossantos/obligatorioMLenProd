{
 "cells": [
  {
   "cell_type": "code",
   "execution_count": 9,
   "metadata": {},
   "outputs": [],
   "source": [
    "HOST=\"http://20.171.16.221:8080\"\n",
    "CLASSES=['CLEANING', 'DRINKS', 'FROZEN', 'PERFUMERY', 'TECHNOLOGY', 'WAREHOUSE']"
   ]
  },
  {
   "cell_type": "code",
   "execution_count": 15,
   "metadata": {},
   "outputs": [
    {
     "name": "stdout",
     "output_type": "stream",
     "text": [
      "{'status': 'OK'}\n"
     ]
    }
   ],
   "source": [
    "import requests\n",
    "\n",
    "response = requests.get(f\"{HOST}/health\")\n",
    "\n",
    "if response.status_code == 200:\n",
    "    data = response.json()\n",
    "    print(data)\n",
    "else:\n",
    "    print(\"Error en la solicitud. Código de estado:\", response.status_code)\n"
   ]
  },
  {
   "cell_type": "code",
   "execution_count": 11,
   "metadata": {},
   "outputs": [
    {
     "name": "stdout",
     "output_type": "stream",
     "text": [
      "{'predicted_class': 4}\n"
     ]
    }
   ],
   "source": [
    "import requests\n",
    "from PIL import Image\n",
    "import numpy as np\n",
    "import io\n",
    "\n",
    "# Abre tu imagen\n",
    "image = Image.open(\"lavadora.jpg\")\n",
    "\n",
    "image = image.resize((32, 32))\n",
    "\n",
    "# Convertimos la imagen de numpy a bytes\n",
    "image_bytes = io.BytesIO()\n",
    "image.save(image_bytes, format='JPEG')\n",
    "\n",
    "# Configura el URL de tu API. Reemplaza <dns-name-label> y <region> con los tuyos.\n",
    "url = f\"{HOST}/predict\"\n",
    "\n",
    "# Configura los datos de la imagen para la solicitud\n",
    "img_data = {\"image_file\": image_bytes.getvalue()}\n",
    "\n",
    "# Haz una solicitud POST a la API con la imagen\n",
    "response = requests.post(url, files=img_data)\n",
    "\n",
    "# Imprime la respuesta\n",
    "response = response\n",
    "\n",
    "print(response.json())\n"
   ]
  },
  {
   "cell_type": "code",
   "execution_count": 8,
   "metadata": {},
   "outputs": [
    {
     "name": "stdout",
     "output_type": "stream",
     "text": [
      "{'predicted_classes': [4, 5]}\n"
     ]
    }
   ],
   "source": [
    "def prepare_images(path):\n",
    "  image = Image.open(path)\n",
    "  image = image.resize((32,32))\n",
    "  image_bytes = io.BytesIO()\n",
    "  image.save(image_bytes, format='JPEG')\n",
    "  return image_bytes.getvalue()\n",
    "\n",
    "\n",
    "import requests\n",
    "from PIL import Image\n",
    "import numpy as np\n",
    "import io\n",
    "\n",
    "files = [('images', prepare_images('lavadora.jpg')), ('images', prepare_images('test.jpg'))]\n",
    "url = f\"{HOST}/predict_batch\"\n",
    "response = requests.post(url, files=files)\n",
    "response = response.json()\n",
    "print(response)\n"
   ]
  }
 ],
 "metadata": {
  "kernelspec": {
   "display_name": "Python 3.10.9 ('base')",
   "language": "python",
   "name": "python3"
  },
  "language_info": {
   "codemirror_mode": {
    "name": "ipython",
    "version": 3
   },
   "file_extension": ".py",
   "mimetype": "text/x-python",
   "name": "python",
   "nbconvert_exporter": "python",
   "pygments_lexer": "ipython3",
   "version": "3.10.9"
  },
  "orig_nbformat": 4,
  "vscode": {
   "interpreter": {
    "hash": "38cca0c38332a56087b24af0bc80247f4fced29cb4f7f437d91dc159adec9c4e"
   }
  }
 },
 "nbformat": 4,
 "nbformat_minor": 2
}
